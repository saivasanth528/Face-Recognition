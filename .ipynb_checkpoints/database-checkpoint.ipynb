{
 "cells": [
  {
   "cell_type": "code",
   "execution_count": 1,
   "metadata": {},
   "outputs": [
    {
     "name": "stderr",
     "output_type": "stream",
     "text": [
      "Using TensorFlow backend.\n"
     ]
    }
   ],
   "source": [
    "from keras.models import Sequential\n",
    "from keras.layers import Conv2D, ZeroPadding2D, Activation, Input, concatenate\n",
    "from keras.models import Model\n",
    "from keras.layers.normalization import BatchNormalization\n",
    "from keras.layers.pooling import MaxPooling2D, AveragePooling2D\n",
    "from keras.layers.merge import Concatenate\n",
    "from keras.layers.core import Lambda, Flatten, Dense\n",
    "from keras.initializers import glorot_uniform\n",
    "from keras.engine.topology import Layer\n",
    "from keras import backend as K\n",
    "K.set_image_data_format('channels_first')\n",
    "import cv2\n",
    "import os\n",
    "import numpy as np\n",
    "from numpy import genfromtxt\n",
    "import pandas as pd\n",
    "import tensorflow as tf\n",
    "from fr_utils import *\n",
    "from inception_blocks_v2 import *\n",
    "import sqlite3"
   ]
  },
  {
   "cell_type": "code",
   "execution_count": 102,
   "metadata": {},
   "outputs": [],
   "source": [
    "conn=sqlite3.connect('harsha.db')\n",
    "conn.execute('''CREATE TABLE IF NOT EXISTS person (name TEXT(20) NOT NULL);''')\n",
    "database={}"
   ]
  },
  {
   "cell_type": "code",
   "execution_count": 130,
   "metadata": {},
   "outputs": [],
   "source": [
    "def loadtodict():\n",
    "    data=conn.execute('''SELECT name FROM person''')\n",
    "    data=data.fetchall()\n",
    "    for row in data:\n",
    "        print(row[0])\n",
    "        database[row[0]]=np.load(\"data/\"+row[0]+\".npy\")"
   ]
  },
  {
   "cell_type": "code",
   "execution_count": 121,
   "metadata": {},
   "outputs": [],
   "source": [
    "def addperson(name,encoding):\n",
    "    temp=\"insert into person(name) values('\"+name+\"');\"\n",
    "    conn.execute(temp)\n",
    "    np.save(\"data\\\\\"+name,encoding)\n",
    "    print(\"inserted succesfully\")"
   ]
  },
  {
   "cell_type": "code",
   "execution_count": 131,
   "metadata": {},
   "outputs": [],
   "source": [
    "def delperson(name):\n",
    "    temp=\"delete from person where name='\"+name+\"';\"\n",
    "    conn.execute(temp)\n",
    "    database.pop(name)\n",
    "    os.remove(\"data//\"+name+\".npy\")"
   ]
  },
  {
   "cell_type": "code",
   "execution_count": 134,
   "metadata": {},
   "outputs": [
    {
     "name": "stdout",
     "output_type": "stream",
     "text": [
      "inserted succesfully\n"
     ]
    }
   ],
   "source": [
    "addperson(\"somraj\",img_to_encoding(\"images/mb_2_short.jpg\", FRmodel))"
   ]
  },
  {
   "cell_type": "code",
   "execution_count": 135,
   "metadata": {},
   "outputs": [
    {
     "name": "stdout",
     "output_type": "stream",
     "text": [
      "harsha\n",
      "vasanth\n",
      "mahesh\n",
      "somraj\n"
     ]
    }
   ],
   "source": [
    "loadtodict()"
   ]
  },
  {
   "cell_type": "code",
   "execution_count": 136,
   "metadata": {
    "scrolled": true
   },
   "outputs": [
    {
     "data": {
      "text/plain": [
       "{'harsha': array([1, 2, 3, 4, 5, 6, 7, 8, 9]),\n",
       " 'mahesh': array([[ 0.1250653 , -0.0556937 , -0.00679408, -0.01854028,  0.11150424,\n",
       "          0.14437869,  0.0509963 , -0.00331598, -0.07445325, -0.17840335,\n",
       "         -0.08443446,  0.08988991,  0.09026071, -0.02193167,  0.05617364,\n",
       "         -0.08980563, -0.00711438, -0.11998504, -0.10730425,  0.23201032,\n",
       "         -0.0021798 ,  0.03265815,  0.07950632,  0.12795538, -0.07447501,\n",
       "         -0.09073825, -0.08451234, -0.09504339, -0.10798505,  0.03960141,\n",
       "         -0.00386546, -0.0137305 , -0.04733571,  0.14134718, -0.01357306,\n",
       "          0.06020715,  0.05435631,  0.08091162, -0.12519895, -0.04245959,\n",
       "          0.05866187, -0.01474472,  0.02066107, -0.0542593 , -0.12359606,\n",
       "          0.02372205,  0.06912614,  0.05706463, -0.01987478,  0.25536612,\n",
       "         -0.02515062, -0.18247017,  0.04398672,  0.07249464,  0.16291898,\n",
       "         -0.0576376 , -0.10129909,  0.13295123, -0.03292836, -0.07330219,\n",
       "         -0.06694847,  0.14348058,  0.05385822, -0.18879673,  0.02897927,\n",
       "         -0.03555617,  0.03292144,  0.00459751, -0.17421803, -0.09575023,\n",
       "          0.00437889,  0.02430671,  0.00194019,  0.04051813,  0.03263071,\n",
       "          0.08288391,  0.06982473, -0.08386128,  0.14957218,  0.14292423,\n",
       "          0.06644784, -0.06335768, -0.04489756, -0.04492766,  0.02129793,\n",
       "         -0.03406107, -0.00093784,  0.0525513 , -0.00558138,  0.13676086,\n",
       "          0.12560554, -0.14727947,  0.03477723,  0.0747041 , -0.12244985,\n",
       "          0.01794559,  0.02012544, -0.02317156,  0.0083674 , -0.0092134 ,\n",
       "          0.02838318,  0.03458808, -0.08848816,  0.0593408 , -0.16454734,\n",
       "          0.06199962, -0.13693568,  0.01157896, -0.10655898,  0.06311009,\n",
       "          0.10528022,  0.12928101, -0.01657291,  0.06031721, -0.11571963,\n",
       "          0.08036191, -0.06275101,  0.03677976, -0.12743013,  0.14529008,\n",
       "         -0.03829972,  0.01249466,  0.03712385,  0.05513215, -0.01057649,\n",
       "          0.01634273, -0.02458384, -0.1533149 ]], dtype=float32),\n",
       " 'somraj': array([[ 0.1250653 , -0.0556937 , -0.00679408, -0.01854028,  0.11150424,\n",
       "          0.14437869,  0.0509963 , -0.00331598, -0.07445325, -0.17840335,\n",
       "         -0.08443446,  0.08988991,  0.09026071, -0.02193167,  0.05617364,\n",
       "         -0.08980563, -0.00711438, -0.11998504, -0.10730425,  0.23201032,\n",
       "         -0.0021798 ,  0.03265815,  0.07950632,  0.12795538, -0.07447501,\n",
       "         -0.09073825, -0.08451234, -0.09504339, -0.10798505,  0.03960141,\n",
       "         -0.00386546, -0.0137305 , -0.04733571,  0.14134718, -0.01357306,\n",
       "          0.06020715,  0.05435631,  0.08091162, -0.12519895, -0.04245959,\n",
       "          0.05866187, -0.01474472,  0.02066107, -0.0542593 , -0.12359606,\n",
       "          0.02372205,  0.06912614,  0.05706463, -0.01987478,  0.25536612,\n",
       "         -0.02515062, -0.18247017,  0.04398672,  0.07249464,  0.16291898,\n",
       "         -0.0576376 , -0.10129909,  0.13295123, -0.03292836, -0.07330219,\n",
       "         -0.06694847,  0.14348058,  0.05385822, -0.18879673,  0.02897927,\n",
       "         -0.03555617,  0.03292144,  0.00459751, -0.17421803, -0.09575023,\n",
       "          0.00437889,  0.02430671,  0.00194019,  0.04051813,  0.03263071,\n",
       "          0.08288391,  0.06982473, -0.08386128,  0.14957218,  0.14292423,\n",
       "          0.06644784, -0.06335768, -0.04489756, -0.04492766,  0.02129793,\n",
       "         -0.03406107, -0.00093784,  0.0525513 , -0.00558138,  0.13676086,\n",
       "          0.12560554, -0.14727947,  0.03477723,  0.0747041 , -0.12244985,\n",
       "          0.01794559,  0.02012544, -0.02317156,  0.0083674 , -0.0092134 ,\n",
       "          0.02838318,  0.03458808, -0.08848816,  0.0593408 , -0.16454734,\n",
       "          0.06199962, -0.13693568,  0.01157896, -0.10655898,  0.06311009,\n",
       "          0.10528022,  0.12928101, -0.01657291,  0.06031721, -0.11571963,\n",
       "          0.08036191, -0.06275101,  0.03677976, -0.12743013,  0.14529008,\n",
       "         -0.03829972,  0.01249466,  0.03712385,  0.05513215, -0.01057649,\n",
       "          0.01634273, -0.02458384, -0.1533149 ]], dtype=float32),\n",
       " 'vasanth': array([[ 0.1250653 , -0.0556937 , -0.00679408, -0.01854028,  0.11150424,\n",
       "          0.14437869,  0.0509963 , -0.00331598, -0.07445325, -0.17840335,\n",
       "         -0.08443446,  0.08988991,  0.09026071, -0.02193167,  0.05617364,\n",
       "         -0.08980563, -0.00711438, -0.11998504, -0.10730425,  0.23201032,\n",
       "         -0.0021798 ,  0.03265815,  0.07950632,  0.12795538, -0.07447501,\n",
       "         -0.09073825, -0.08451234, -0.09504339, -0.10798505,  0.03960141,\n",
       "         -0.00386546, -0.0137305 , -0.04733571,  0.14134718, -0.01357306,\n",
       "          0.06020715,  0.05435631,  0.08091162, -0.12519895, -0.04245959,\n",
       "          0.05866187, -0.01474472,  0.02066107, -0.0542593 , -0.12359606,\n",
       "          0.02372205,  0.06912614,  0.05706463, -0.01987478,  0.25536612,\n",
       "         -0.02515062, -0.18247017,  0.04398672,  0.07249464,  0.16291898,\n",
       "         -0.0576376 , -0.10129909,  0.13295123, -0.03292836, -0.07330219,\n",
       "         -0.06694847,  0.14348058,  0.05385822, -0.18879673,  0.02897927,\n",
       "         -0.03555617,  0.03292144,  0.00459751, -0.17421803, -0.09575023,\n",
       "          0.00437889,  0.02430671,  0.00194019,  0.04051813,  0.03263071,\n",
       "          0.08288391,  0.06982473, -0.08386128,  0.14957218,  0.14292423,\n",
       "          0.06644784, -0.06335768, -0.04489756, -0.04492766,  0.02129793,\n",
       "         -0.03406107, -0.00093784,  0.0525513 , -0.00558138,  0.13676086,\n",
       "          0.12560554, -0.14727947,  0.03477723,  0.0747041 , -0.12244985,\n",
       "          0.01794559,  0.02012544, -0.02317156,  0.0083674 , -0.0092134 ,\n",
       "          0.02838318,  0.03458808, -0.08848816,  0.0593408 , -0.16454734,\n",
       "          0.06199962, -0.13693568,  0.01157896, -0.10655898,  0.06311009,\n",
       "          0.10528022,  0.12928101, -0.01657291,  0.06031721, -0.11571963,\n",
       "          0.08036191, -0.06275101,  0.03677976, -0.12743013,  0.14529008,\n",
       "         -0.03829972,  0.01249466,  0.03712385,  0.05513215, -0.01057649,\n",
       "          0.01634273, -0.02458384, -0.1533149 ]], dtype=float32)}"
      ]
     },
     "execution_count": 136,
     "metadata": {},
     "output_type": "execute_result"
    }
   ],
   "source": [
    "database"
   ]
  },
  {
   "cell_type": "code",
   "execution_count": 137,
   "metadata": {},
   "outputs": [],
   "source": [
    "delperson(\"somraj\")"
   ]
  },
  {
   "cell_type": "code",
   "execution_count": 138,
   "metadata": {},
   "outputs": [
    {
     "name": "stdout",
     "output_type": "stream",
     "text": [
      "harsha\n",
      "vasanth\n",
      "mahesh\n"
     ]
    }
   ],
   "source": [
    "loadtodict()"
   ]
  },
  {
   "cell_type": "code",
   "execution_count": 139,
   "metadata": {
    "collapsed": true
   },
   "outputs": [
    {
     "data": {
      "text/plain": [
       "{'harsha': array([1, 2, 3, 4, 5, 6, 7, 8, 9]),\n",
       " 'mahesh': array([[ 0.1250653 , -0.0556937 , -0.00679408, -0.01854028,  0.11150424,\n",
       "          0.14437869,  0.0509963 , -0.00331598, -0.07445325, -0.17840335,\n",
       "         -0.08443446,  0.08988991,  0.09026071, -0.02193167,  0.05617364,\n",
       "         -0.08980563, -0.00711438, -0.11998504, -0.10730425,  0.23201032,\n",
       "         -0.0021798 ,  0.03265815,  0.07950632,  0.12795538, -0.07447501,\n",
       "         -0.09073825, -0.08451234, -0.09504339, -0.10798505,  0.03960141,\n",
       "         -0.00386546, -0.0137305 , -0.04733571,  0.14134718, -0.01357306,\n",
       "          0.06020715,  0.05435631,  0.08091162, -0.12519895, -0.04245959,\n",
       "          0.05866187, -0.01474472,  0.02066107, -0.0542593 , -0.12359606,\n",
       "          0.02372205,  0.06912614,  0.05706463, -0.01987478,  0.25536612,\n",
       "         -0.02515062, -0.18247017,  0.04398672,  0.07249464,  0.16291898,\n",
       "         -0.0576376 , -0.10129909,  0.13295123, -0.03292836, -0.07330219,\n",
       "         -0.06694847,  0.14348058,  0.05385822, -0.18879673,  0.02897927,\n",
       "         -0.03555617,  0.03292144,  0.00459751, -0.17421803, -0.09575023,\n",
       "          0.00437889,  0.02430671,  0.00194019,  0.04051813,  0.03263071,\n",
       "          0.08288391,  0.06982473, -0.08386128,  0.14957218,  0.14292423,\n",
       "          0.06644784, -0.06335768, -0.04489756, -0.04492766,  0.02129793,\n",
       "         -0.03406107, -0.00093784,  0.0525513 , -0.00558138,  0.13676086,\n",
       "          0.12560554, -0.14727947,  0.03477723,  0.0747041 , -0.12244985,\n",
       "          0.01794559,  0.02012544, -0.02317156,  0.0083674 , -0.0092134 ,\n",
       "          0.02838318,  0.03458808, -0.08848816,  0.0593408 , -0.16454734,\n",
       "          0.06199962, -0.13693568,  0.01157896, -0.10655898,  0.06311009,\n",
       "          0.10528022,  0.12928101, -0.01657291,  0.06031721, -0.11571963,\n",
       "          0.08036191, -0.06275101,  0.03677976, -0.12743013,  0.14529008,\n",
       "         -0.03829972,  0.01249466,  0.03712385,  0.05513215, -0.01057649,\n",
       "          0.01634273, -0.02458384, -0.1533149 ]], dtype=float32),\n",
       " 'vasanth': array([[ 0.1250653 , -0.0556937 , -0.00679408, -0.01854028,  0.11150424,\n",
       "          0.14437869,  0.0509963 , -0.00331598, -0.07445325, -0.17840335,\n",
       "         -0.08443446,  0.08988991,  0.09026071, -0.02193167,  0.05617364,\n",
       "         -0.08980563, -0.00711438, -0.11998504, -0.10730425,  0.23201032,\n",
       "         -0.0021798 ,  0.03265815,  0.07950632,  0.12795538, -0.07447501,\n",
       "         -0.09073825, -0.08451234, -0.09504339, -0.10798505,  0.03960141,\n",
       "         -0.00386546, -0.0137305 , -0.04733571,  0.14134718, -0.01357306,\n",
       "          0.06020715,  0.05435631,  0.08091162, -0.12519895, -0.04245959,\n",
       "          0.05866187, -0.01474472,  0.02066107, -0.0542593 , -0.12359606,\n",
       "          0.02372205,  0.06912614,  0.05706463, -0.01987478,  0.25536612,\n",
       "         -0.02515062, -0.18247017,  0.04398672,  0.07249464,  0.16291898,\n",
       "         -0.0576376 , -0.10129909,  0.13295123, -0.03292836, -0.07330219,\n",
       "         -0.06694847,  0.14348058,  0.05385822, -0.18879673,  0.02897927,\n",
       "         -0.03555617,  0.03292144,  0.00459751, -0.17421803, -0.09575023,\n",
       "          0.00437889,  0.02430671,  0.00194019,  0.04051813,  0.03263071,\n",
       "          0.08288391,  0.06982473, -0.08386128,  0.14957218,  0.14292423,\n",
       "          0.06644784, -0.06335768, -0.04489756, -0.04492766,  0.02129793,\n",
       "         -0.03406107, -0.00093784,  0.0525513 , -0.00558138,  0.13676086,\n",
       "          0.12560554, -0.14727947,  0.03477723,  0.0747041 , -0.12244985,\n",
       "          0.01794559,  0.02012544, -0.02317156,  0.0083674 , -0.0092134 ,\n",
       "          0.02838318,  0.03458808, -0.08848816,  0.0593408 , -0.16454734,\n",
       "          0.06199962, -0.13693568,  0.01157896, -0.10655898,  0.06311009,\n",
       "          0.10528022,  0.12928101, -0.01657291,  0.06031721, -0.11571963,\n",
       "          0.08036191, -0.06275101,  0.03677976, -0.12743013,  0.14529008,\n",
       "         -0.03829972,  0.01249466,  0.03712385,  0.05513215, -0.01057649,\n",
       "          0.01634273, -0.02458384, -0.1533149 ]], dtype=float32)}"
      ]
     },
     "execution_count": 139,
     "metadata": {},
     "output_type": "execute_result"
    }
   ],
   "source": [
    "database"
   ]
  },
  {
   "cell_type": "code",
   "execution_count": 140,
   "metadata": {},
   "outputs": [],
   "source": [
    "conn.commit()\n",
    "conn.close()"
   ]
  },
  {
   "cell_type": "code",
   "execution_count": null,
   "metadata": {},
   "outputs": [],
   "source": []
  },
  {
   "cell_type": "code",
   "execution_count": 6,
   "metadata": {},
   "outputs": [],
   "source": [
    "np.set_printoptions(threshold=np.nan)"
   ]
  },
  {
   "cell_type": "code",
   "execution_count": 7,
   "metadata": {},
   "outputs": [],
   "source": [
    "FRmodel = faceRecoModel(input_shape=(3, 96, 96))"
   ]
  },
  {
   "cell_type": "code",
   "execution_count": 8,
   "metadata": {},
   "outputs": [
    {
     "name": "stdout",
     "output_type": "stream",
     "text": [
      "Total Params: 3743280\n"
     ]
    }
   ],
   "source": [
    "print(\"Total Params:\", FRmodel.count_params())"
   ]
  },
  {
   "cell_type": "code",
   "execution_count": 9,
   "metadata": {},
   "outputs": [],
   "source": [
    "def triplet_loss(y_true, y_pred, alpha=0.2):\n",
    "    \n",
    "    anchor, positive, negative = y_pred[0], y_pred[1], y_pred[2]\n",
    "    \n",
    "\n",
    "    # Step 1: Compute the (encoding) distance between the anchor and the positive, you will need to sum over axis=-1\n",
    "    pos_dist = tf.reduce_sum(tf.square(tf.subtract(anchor, positive)), axis=-1)\n",
    "    # Step 2: Compute the (encoding) distance between the anchor and the negative, you will need to sum over axis=-1\n",
    "    neg_dist = tf.reduce_sum(tf.square(tf.subtract(anchor, negative)), axis=-1)\n",
    "    # Step 3: subtract the two previous distances and add alpha.\n",
    "    basic_loss = pos_dist - neg_dist + alpha\n",
    "    # Step 4: Take the maximum of basic_loss and 0.0. Sum over the training examples.\n",
    "    loss = tf.reduce_sum(tf.maximum(basic_loss, 0.0))\n",
    "    \n",
    "    return loss"
   ]
  },
  {
   "cell_type": "code",
   "execution_count": 10,
   "metadata": {},
   "outputs": [],
   "source": [
    "FRmodel.compile(optimizer='adam', loss=triplet_loss, metrics=['accuracy'])"
   ]
  },
  {
   "cell_type": "code",
   "execution_count": 11,
   "metadata": {},
   "outputs": [],
   "source": [
    "load_weights_from_FaceNet(FRmodel)"
   ]
  },
  {
   "cell_type": "code",
   "execution_count": null,
   "metadata": {},
   "outputs": [],
   "source": []
  },
  {
   "cell_type": "code",
   "execution_count": 12,
   "metadata": {},
   "outputs": [
    {
     "data": {
      "text/plain": [
       "numpy.ndarray"
      ]
     },
     "execution_count": 12,
     "metadata": {},
     "output_type": "execute_result"
    }
   ],
   "source": [
    "harshaencod = img_to_encoding(\"images/vasanth_test1.jpg\", FRmodel)\n",
    "type(harshaencod)"
   ]
  },
  {
   "cell_type": "code",
   "execution_count": null,
   "metadata": {},
   "outputs": [],
   "source": [
    "database = {}\n",
    "database[\"danielle\"] = img_to_encoding(\"images/danielle.png\", FRmodel)\n",
    "database[\"younes\"] = img_to_encoding(\"images/younes.jpg\", FRmodel)\n",
    "database[\"tian\"] = img_to_encoding(\"images/tian.jpg\", FRmodel)\n",
    "database[\"andrew\"] = img_to_encoding(\"images/andrew.jpg\", FRmodel)\n",
    "database[\"kian\"] = img_to_encoding(\"images/kian.jpg\", FRmodel)\n",
    "database[\"dan\"] = img_to_encoding(\"images/dan.jpg\", FRmodel)\n",
    "database[\"sebastiano\"] = img_to_encoding(\"images/sebastiano.jpg\", FRmodel)\n",
    "database[\"bertrand\"] = img_to_encoding(\"images/bertrand.jpg\", FRmodel)\n",
    "database[\"kevin\"] = img_to_encoding(\"images/kevin.jpg\", FRmodel)\n",
    "database[\"felix\"] = img_to_encoding(\"images/felix.jpg\", FRmodel)\n",
    "database[\"benoit\"] = img_to_encoding(\"images/benoit.jpg\", FRmodel)\n",
    "database[\"arnaud\"] = img_to_encoding(\"images/arnaud.jpg\", FRmodel)\n",
    "database[\"vasanth\"] = img_to_encoding(\"images/vasanth_test1.jpg\", FRmodel)\n",
    "database[\"mb\"] = img_to_encoding(\"images/mb_2_short.jpg\", FRmodel)"
   ]
  },
  {
   "cell_type": "code",
   "execution_count": null,
   "metadata": {},
   "outputs": [],
   "source": [
    "def who_is_it(image_path, database, model):\n",
    "    \"\"\"\n",
    "    Implements face recognition for the happy house by finding who is the person on the image_path image.\n",
    "    \n",
    "    Arguments:\n",
    "    image_path -- path to an image\n",
    "    database -- database containing image encodings along with the name of the person on the image\n",
    "    model -- your Inception model instance in Keras\n",
    "    \n",
    "    Returns:\n",
    "    min_dist -- the minimum distance between image_path encoding and the encodings from the database\n",
    "    identity -- string, the name prediction for the person on image_path\n",
    "    \"\"\"\n",
    "\n",
    "    # Step 1: Compute the target \"encoding\" for the image.\n",
    "    encoding = img_to_encoding(image_path, model)\n",
    "    \n",
    "    # Step 2: Find the closest encoding\n",
    "    \n",
    "    # Initializing \"min_dist\" to a large value, say 100\n",
    "    min_dist = 100\n",
    "    \n",
    "    # Loop over the database dictionary's names and encodings.\n",
    "    for (name, db_enc) in database.items():\n",
    "        \n",
    "        # Computing L2(Euclidean) distance between the target \"encoding\" and the current \"emb\"\n",
    "        # from the database.\n",
    "        dist = np.linalg.norm(encoding - db_enc)\n",
    "\n",
    "        # If this distance is less than the min_dist, then set min_dist to dist, and identity to name\n",
    "        if dist < min_dist:\n",
    "            min_dist = dist\n",
    "            identity = name\n",
    "    \n",
    "    if min_dist > 0.8:\n",
    "        print(\"Not in the database,,,,,,UNAUTHORIZED.\")\n",
    "    else:\n",
    "        print (\"it's \" + str(identity) + \", the distance is \" + str(min_dist))\n",
    "        \n",
    "    return min_dist, identity"
   ]
  },
  {
   "cell_type": "code",
   "execution_count": null,
   "metadata": {},
   "outputs": [],
   "source": [
    "who_is_it(\"images/frame15.jpg\", database, FRmodel)"
   ]
  },
  {
   "cell_type": "code",
   "execution_count": null,
   "metadata": {},
   "outputs": [],
   "source": []
  },
  {
   "cell_type": "code",
   "execution_count": null,
   "metadata": {},
   "outputs": [],
   "source": []
  },
  {
   "cell_type": "code",
   "execution_count": null,
   "metadata": {},
   "outputs": [],
   "source": []
  },
  {
   "cell_type": "code",
   "execution_count": null,
   "metadata": {},
   "outputs": [],
   "source": []
  }
 ],
 "metadata": {
  "kernelspec": {
   "display_name": "Python 3",
   "language": "python",
   "name": "python3"
  },
  "language_info": {
   "codemirror_mode": {
    "name": "ipython",
    "version": 3
   },
   "file_extension": ".py",
   "mimetype": "text/x-python",
   "name": "python",
   "nbconvert_exporter": "python",
   "pygments_lexer": "ipython3",
   "version": "3.6.7"
  }
 },
 "nbformat": 4,
 "nbformat_minor": 2
}
